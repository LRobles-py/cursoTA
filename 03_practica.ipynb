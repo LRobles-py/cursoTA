{
 "cells": [
  {
   "cell_type": "code",
   "execution_count": 2,
   "metadata": {},
   "outputs": [
    {
     "name": "stdout",
     "output_type": "stream",
     "text": [
      "<Response [200]>\n",
      "<class 'list'>\n",
      "Ultimas operaciones\n",
      "\n",
      "Empty DataFrame\n",
      "Columns: [precio, volumen]\n",
      "Index: []\n"
     ]
    }
   ],
   "source": [
    "import requests\n",
    "import json\n",
    "import pandas\n",
    "import numpy\n",
    "import datetime\n",
    "import time\n",
    "import os\n",
    "\n",
    "cookie = \"i18n.langtag=es-AR; isMobile=0; _ga=GA1.2.562200342.1550437466; _gcl_au=1.1.1485109361.1550437468; _fbp=fb.1.1550437468745.912716059; uid=412470; _gid=GA1.2.855003422.1555288182; _hjIncludedInSample=1; __sid=wnke0aoyhbkyqz50klyk5052; isLogged=1; _dc_gtm_UA-189938-1=1; _gat=1\"\n",
    "condicion = True\n",
    "while condicion:\n",
    "    os.system('clear')\n",
    "    url = \"https://www.invertironline.com/Titulo/GraficoIntradiario?idTitulo=3445&idTipo=4&idMercado=1\"\n",
    "    \n",
    "    headers = {\n",
    "    'Host':'www.invertironline.com',\n",
    "    'User-Agent':'Mozilla/5.0 (X11; Ubuntu; Linux x86_64; rv:66.0) Gecko/20100101 Firefox/66.0',\n",
    "    'Accept':'application/json, text/javascript, */*; q=0.01',\n",
    "    \"Accept-Language\":\"es-AR,es;q=0.8,en-US;q=0.5,en;q=0.3\",\n",
    "    'Accept-Encoding':'gzip, deflate, br',\n",
    "    'Referer':'https://www.invertironline.com/titulo/cotizacion/BCBA/GGAL/GRUPO-FINANCIERO-GALICIA/',\n",
    "    'X-Requested-With':'XMLHttpRequest',\n",
    "    'Connection':'keep-alive',\n",
    "    'Cookie':cookie\n",
    "    }\n",
    "\n",
    "\n",
    "    r = requests.get(\"https://www.invertironline.com/Titulo/GraficoIntradiario?idTitulo=3445&idTipo=4&idMercado=1\", headers=headers)\n",
    "    print(r)\n",
    "    datos = json.loads(r.text) #transformamos el json recibido en r a un tipo de dato nativo\n",
    "    print(type(datos))                        #  en python, en este caso una lista.\n",
    "    hora = []\n",
    "    precio = []\n",
    "    volumen = []\n",
    "    for e in datos:\n",
    "        h = datetime.datetime.utcfromtimestamp(int(e[\"FechaHora\"])).strftime('%H:%M:%S') # esto es un comentario'%Y-%m-%d %H:%M:%S')\n",
    "        hora.append(h)\n",
    "        precio.append(e['Ultima'])\n",
    "        volumen.append(e['CantidadNominal'])\n",
    "    preplanilla = {}\n",
    "    preplanilla[\"precio\"],preplanilla[\"volumen\"] = precio,volumen\n",
    "    planilla = pandas.DataFrame(preplanilla, columns = [\"precio\",\"volumen\"],index = hora)\n",
    "    print(\"Ultimas operaciones\\n\")\n",
    "    print(planilla)\n",
    "    time.sleep(10)\n",
    "    condicion = False\n",
    " \n"
   ]
  },
  {
   "cell_type": "code",
   "execution_count": null,
   "metadata": {},
   "outputs": [],
   "source": []
  },
  {
   "cell_type": "code",
   "execution_count": null,
   "metadata": {},
   "outputs": [],
   "source": []
  },
  {
   "cell_type": "code",
   "execution_count": null,
   "metadata": {},
   "outputs": [],
   "source": [
    "import matplotlib.pyplot as plt\n",
    "%matplotlib inline\n",
    "import seaborn as sb\n",
    "plt.style.use('classic')\n",
    "\n",
    "media = planilla\n",
    "media = media.drop(['volumen'], axis=1)\n",
    "sb.set()\n",
    "graf = sb.lineplot(data=media, palette=\"tab10\", linewidth=1)"
   ]
  },
  {
   "cell_type": "code",
   "execution_count": null,
   "metadata": {},
   "outputs": [],
   "source": []
  },
  {
   "cell_type": "code",
   "execution_count": null,
   "metadata": {},
   "outputs": [],
   "source": []
  }
 ],
 "metadata": {
  "kernelspec": {
   "display_name": "Python 3",
   "language": "python",
   "name": "python3"
  },
  "language_info": {
   "codemirror_mode": {
    "name": "ipython",
    "version": 3
   },
   "file_extension": ".py",
   "mimetype": "text/x-python",
   "name": "python",
   "nbconvert_exporter": "python",
   "pygments_lexer": "ipython3",
   "version": "3.7.1"
  }
 },
 "nbformat": 4,
 "nbformat_minor": 2
}
