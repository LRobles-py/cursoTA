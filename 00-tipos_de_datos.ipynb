{
 "cells": [
  {
   "cell_type": "markdown",
   "metadata": {},
   "source": [
    "Tipos de datos en Python\n"
   ]
  },
  {
   "cell_type": "code",
   "execution_count": 2,
   "metadata": {},
   "outputs": [],
   "source": [
    "# cadenas\n",
    "\"\"\"\n",
    "tambien podemos escribir comentarios largos para explicar cosas colocando el texto entre 3 \n",
    "comillas simples o dobles - esta parte del codigo no tendra efecto en el programa y solo nos sirve\n",
    "a efectos de claridad\n",
    "\"\"\"\n",
    "\n",
    "cadena = \"esto es un texto\" # esto es un comentario que nos puede ser util para explicar algo\n",
    "\n",
    "cadena2 = 'otra cadena pero usando comilla simple'\n",
    "\n",
    "cadena3 ='''\n",
    "\n",
    "Tambien podemos utilizar tres comillas simples o dobles para guardar una cadena de forma textual\n",
    "deberemos guardar en un lugar la cadena o se perdera como el comentario de arriba que usa 3 comillas \n",
    "ya que no se guardo en ninguna variable - los numerales no pueden utilizarse para definir cadenas,\n",
    "solo sirven para comentarios\n",
    "\n",
    "(0.o)\n",
    "\n",
    "'''"
   ]
  },
  {
   "cell_type": "code",
   "execution_count": 3,
   "metadata": {},
   "outputs": [],
   "source": [
    "# numeros :\n",
    "#de paso probemos la asignacion múltiple\n",
    "entero , flotante = 1 , 1.45\n",
    "\n",
    "\"\"\" prueba escribir en el renglón de abajo y afuera de estas tres comillas\n",
    "print(entero), print(flotante), print(entero,flotante) y experimenta un poco\"\"\"\n"
   ]
  },
  {
   "cell_type": "code",
   "execution_count": 5,
   "metadata": {},
   "outputs": [
    {
     "name": "stdout",
     "output_type": "stream",
     "text": [
      "1\n"
     ]
    }
   ],
   "source": [
    "#listas\n",
    "\n",
    "lista1 = [] # las listas se declaran usando corchetes; esto es una lista sin nada, vacia\n",
    "\n",
    "# las listas son una forma de coleccionar otros datos de manera ordenada\n",
    "\n",
    "lista_2 = [entero, flotante, cadena] # podemos guardar en esa lista variables que ya hemos declarado antes\n",
    "\n",
    "print(lista_2[0]) # accedemos a un elemento de una lista a traves de su indice, siendo el primer elemento el cero \n",
    "# prueba escribir abajo print(... y que muestre la cadena que contiene lista_2"
   ]
  },
  {
   "cell_type": "code",
   "execution_count": 11,
   "metadata": {},
   "outputs": [
    {
     "name": "stdout",
     "output_type": "stream",
     "text": [
      "contenido de key -:  1.2\n"
     ]
    }
   ],
   "source": [
    "# diccionarios\n",
    "\n",
    "dic = {} #se declaran utilizando corchetes; esto es un diccionario vacio\n",
    "\n",
    "dic2 = {\n",
    "    0:lista_2,\n",
    "    1:{'precios':[1.3,1.2,1.23,1.34,1.21]}, #separamos los pares de datos llave:contenido, llave2:contenido2 con una coma \",\"\n",
    "    \"key\":\"contenido de key\"\n",
    "}    \n",
    "    \n",
    "# un diccionario tambien es una coleccion de datos como las listas con la diferencia que\n",
    "# que cada elemento que se guarda en el tiene un identificador que puede ser tanto una cadena como un numero\n",
    "\n",
    "\"\"\"\n",
    "para acceder a un contenido a traves de una key\n",
    "escribimos la variable donde esta guardado el diccionario seguido de corchetes y la llave\n",
    "de la siguiente forma:\n",
    "\"\"\"\n",
    "\n",
    "print(dic2[\"key\"],'-: ',dic2[1]['precios'][1]) # el segundo es la llave 1 que contiene un diccionario,\n",
    "#                                            este diccionario contiene a \"precios\", que guarda una lista\n",
    "#                                            su vez es lista contiene varios flotantes y elegimos el 2d elemento \"1.2\""
   ]
  },
  {
   "cell_type": "code",
   "execution_count": 2,
   "metadata": {},
   "outputs": [
    {
     "name": "stdout",
     "output_type": "stream",
     "text": [
      "True\n",
      "True\n",
      "False\n",
      "False\n",
      "True\n",
      "esto se muestra porque '3 igual a 3' es una proposicion verdadera\n"
     ]
    }
   ],
   "source": [
    "#booleanos\n",
    "\n",
    "# sirven para tomar decisiones\n",
    "\n",
    "condicion = False\n",
    "\n",
    "# tambien se obtienen a partir de verificar algo\n",
    "# por ejemplo igualdades/desigualdades entre numeros...\n",
    "\n",
    "print(2<3) # 2 es menor que 3????\n",
    "print(2==2) # 2 es igual a 2??? notese que para verificar es doble signo igual, uno solo significa asignar una variable\n",
    "print(3<2) # 3 es menor que 2???\n",
    "print(2!=2) # 2 es distinto de 2?\n",
    "print(2!=\"dos\") # 2 es distinto de 'dos'?\n",
    "\n",
    "if 3==3:\n",
    "    print(\"esto se muestra porque '3 igual a 3' es una proposicion verdadera\")"
   ]
  },
  {
   "cell_type": "code",
   "execution_count": 13,
   "metadata": {},
   "outputs": [],
   "source": [
    "if condicion:\n",
    "    print(\"si eres inteligente conseguiras que este mensaje se muestre otra vez abajo\")\n",
    "\n",
    "#pista!! en python podemos reasignar una variable que ya hemos usado y cambiarle el valor volviendo la declarar"
   ]
  },
  {
   "cell_type": "code",
   "execution_count": 22,
   "metadata": {},
   "outputs": [
    {
     "name": "stdout",
     "output_type": "stream",
     "text": [
      "comprado +1 en $1,2\n",
      "comprado +1 en $1,2\n",
      "vendido todo en $1,5\n"
     ]
    }
   ],
   "source": [
    "#un ejemplo que integre todo lo que hicimos hasta ahora...\n",
    "\n",
    "precios = [1.2,1.3,1.2,1.3,1.4,1.5]\n",
    "\n",
    "for precio in precios:\n",
    "    if precio==1.2:\n",
    "        print(\"comprado +1 en $1,2\")\n",
    "    if precio==1.5:\n",
    "        print(\"vendido todo en $1,5\")\n",
    "\n",
    "        \n",
    "        \"\"\"\n",
    "supongamos que estamos en un mercado en rango, nos interesa guardar los precios que vamos recibiendo\n",
    "e iterando estos vamos comprobando que si vale $1.2 esta en el piso de la tendencia lateral y nos conviene comprar,\n",
    "si el precio es $1.5 llego al techo y nos interesa liquidar toda la posicion, segun la serie de precios hicimos dos\n",
    "compras y vendimos en $1.5\n",
    "\"\"\""
   ]
  },
  {
   "cell_type": "code",
   "execution_count": null,
   "metadata": {},
   "outputs": [],
   "source": []
  }
 ],
 "metadata": {
  "kernelspec": {
   "display_name": "Python 3",
   "language": "python",
   "name": "python3"
  },
  "language_info": {
   "codemirror_mode": {
    "name": "ipython",
    "version": 3
   },
   "file_extension": ".py",
   "mimetype": "text/x-python",
   "name": "python",
   "nbconvert_exporter": "python",
   "pygments_lexer": "ipython3",
   "version": "3.7.1"
  }
 },
 "nbformat": 4,
 "nbformat_minor": 2
}
