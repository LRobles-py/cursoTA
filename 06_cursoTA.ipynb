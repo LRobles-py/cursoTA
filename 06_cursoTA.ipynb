{
 "cells": [
  {
   "cell_type": "code",
   "execution_count": 3,
   "metadata": {},
   "outputs": [
    {
     "name": "stdout",
     "output_type": "stream",
     "text": [
      "condicion es verdadera\n",
      "condicion es verdadera\n",
      "condicion es verdadera\n",
      "condicion es verdadera\n",
      "condicion es verdadera\n",
      "condicion es verdadera\n",
      "Ya esta!\n"
     ]
    }
   ],
   "source": [
    "import requests # hacer solicitudes de internet\n",
    "import json # interpretar JSON que es un standard de datos\n",
    "import pandas # matematicas 1-D y 2-D , n-D\n",
    "import datetime # sirve interpretar fechas epoch, timetuples, etc\n",
    "import time # contador de segundos\n",
    "\n",
    "#bucles : if while for\n",
    "condicion = True\n",
    "m=0\n",
    "while condicion:\n",
    "    print('condicion es verdadera')\n",
    "    if m==5:\n",
    "        condicion=False\n",
    "        print('Ya esta!')\n",
    "    m=m+1\n",
    "    time.sleep(15)\n",
    "        "
   ]
  },
  {
   "cell_type": "code",
   "execution_count": 4,
   "metadata": {},
   "outputs": [
    {
     "name": "stdout",
     "output_type": "stream",
     "text": [
      "1\n",
      "0.5\n",
      "0.3333333333333333\n",
      "2\n",
      "1.0\n",
      "0.6666666666666666\n",
      "3\n",
      "1.5\n",
      "1.0\n",
      "4\n",
      "2.0\n",
      "1.3333333333333333\n",
      "5\n",
      "2.5\n",
      "1.6666666666666667\n",
      "6\n",
      "3.0\n",
      "2.0\n",
      "7\n",
      "3.5\n",
      "2.3333333333333335\n",
      "8\n",
      "4.0\n",
      "2.6666666666666665\n",
      "9\n",
      "4.5\n",
      "3.0\n"
     ]
    }
   ],
   "source": [
    "lista = [1,2,3,4,5,6,7,8,9]\n",
    "\n",
    "for i in lista:\n",
    "    \n",
    "    print(i)\n",
    "    print(i/2)\n",
    "    print(i/3)"
   ]
  },
  {
   "cell_type": "code",
   "execution_count": null,
   "metadata": {},
   "outputs": [],
   "source": []
  }
 ],
 "metadata": {
  "kernelspec": {
   "display_name": "Python 3",
   "language": "python",
   "name": "python3"
  },
  "language_info": {
   "codemirror_mode": {
    "name": "ipython",
    "version": 3
   },
   "file_extension": ".py",
   "mimetype": "text/x-python",
   "name": "python",
   "nbconvert_exporter": "python",
   "pygments_lexer": "ipython3",
   "version": "3.7.1"
  }
 },
 "nbformat": 4,
 "nbformat_minor": 2
}
